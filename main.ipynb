{
 "cells": [
  {
   "cell_type": "markdown",
   "metadata": {},
   "source": [
    "# 1) Import libraries and global variables"
   ]
  },
  {
   "cell_type": "code",
   "execution_count": 190,
   "metadata": {},
   "outputs": [],
   "source": [
    "import numpy as np\n",
    "import pandas as pd\n",
    "from collections import Counter\n",
    "from tqdm import tqdm\n",
    "\n",
    "from sklearn.model_selection import train_test_split\n",
    "from sklearn.preprocessing import StandardScaler\n",
    "\n",
    "from pylab import meshgrid, cm, imshow, contour, clabel, colorbar, axis, title, show\n",
    "import matplotlib.pyplot as plt\n",
    "\n",
    "import time\n",
    "\n",
    "data_path = 'forumlog-22-03_2024.csv'"
   ]
  },
  {
   "cell_type": "markdown",
   "metadata": {},
   "source": [
    "# 2) Feature extraction\n",
    "\n",
    "We already upvotes. However, as proposed by the exercice, we can also add the number of post of the authors."
   ]
  },
  {
   "cell_type": "markdown",
   "metadata": {},
   "source": [
    "### Import raw data"
   ]
  },
  {
   "cell_type": "code",
   "execution_count": 191,
   "metadata": {},
   "outputs": [
    {
     "data": {
      "text/html": [
       "<div>\n",
       "<style scoped>\n",
       "    .dataframe tbody tr th:only-of-type {\n",
       "        vertical-align: middle;\n",
       "    }\n",
       "\n",
       "    .dataframe tbody tr th {\n",
       "        vertical-align: top;\n",
       "    }\n",
       "\n",
       "    .dataframe thead th {\n",
       "        text-align: right;\n",
       "    }\n",
       "</style>\n",
       "<table border=\"1\" class=\"dataframe\">\n",
       "  <thead>\n",
       "    <tr style=\"text-align: right;\">\n",
       "      <th></th>\n",
       "      <th>author</th>\n",
       "      <th>upvotes</th>\n",
       "      <th>label</th>\n",
       "    </tr>\n",
       "  </thead>\n",
       "  <tbody>\n",
       "    <tr>\n",
       "      <th>0</th>\n",
       "      <td>48775</td>\n",
       "      <td>5</td>\n",
       "      <td>none</td>\n",
       "    </tr>\n",
       "    <tr>\n",
       "      <th>1</th>\n",
       "      <td>48775</td>\n",
       "      <td>9</td>\n",
       "      <td>none</td>\n",
       "    </tr>\n",
       "    <tr>\n",
       "      <th>2</th>\n",
       "      <td>48775</td>\n",
       "      <td>4</td>\n",
       "      <td>none</td>\n",
       "    </tr>\n",
       "    <tr>\n",
       "      <th>3</th>\n",
       "      <td>48775</td>\n",
       "      <td>10</td>\n",
       "      <td>none</td>\n",
       "    </tr>\n",
       "    <tr>\n",
       "      <th>4</th>\n",
       "      <td>48775</td>\n",
       "      <td>13</td>\n",
       "      <td>none</td>\n",
       "    </tr>\n",
       "  </tbody>\n",
       "</table>\n",
       "</div>"
      ],
      "text/plain": [
       "   author  upvotes label\n",
       "0   48775        5  none\n",
       "1   48775        9  none\n",
       "2   48775        4  none\n",
       "3   48775       10  none\n",
       "4   48775       13  none"
      ]
     },
     "metadata": {},
     "output_type": "display_data"
    }
   ],
   "source": [
    "data = pd.read_csv(data_path)\n",
    "display(data.head())"
   ]
  },
  {
   "cell_type": "markdown",
   "metadata": {},
   "source": [
    "### Count the number of posts for each author and add the new column"
   ]
  },
  {
   "cell_type": "code",
   "execution_count": 192,
   "metadata": {},
   "outputs": [
    {
     "name": "stdout",
     "output_type": "stream",
     "text": [
      "Number of unique authors : 131\n"
     ]
    },
    {
     "name": "stderr",
     "output_type": "stream",
     "text": [
      "100%|██████████| 100963/100963 [00:01<00:00, 79127.45it/s]\n"
     ]
    },
    {
     "data": {
      "text/html": [
       "<div>\n",
       "<style scoped>\n",
       "    .dataframe tbody tr th:only-of-type {\n",
       "        vertical-align: middle;\n",
       "    }\n",
       "\n",
       "    .dataframe tbody tr th {\n",
       "        vertical-align: top;\n",
       "    }\n",
       "\n",
       "    .dataframe thead th {\n",
       "        text-align: right;\n",
       "    }\n",
       "</style>\n",
       "<table border=\"1\" class=\"dataframe\">\n",
       "  <thead>\n",
       "    <tr style=\"text-align: right;\">\n",
       "      <th></th>\n",
       "      <th>author</th>\n",
       "      <th>upvotes</th>\n",
       "      <th>label</th>\n",
       "      <th>author_count</th>\n",
       "    </tr>\n",
       "  </thead>\n",
       "  <tbody>\n",
       "    <tr>\n",
       "      <th>0</th>\n",
       "      <td>48775</td>\n",
       "      <td>5</td>\n",
       "      <td>none</td>\n",
       "      <td>4138</td>\n",
       "    </tr>\n",
       "    <tr>\n",
       "      <th>1</th>\n",
       "      <td>48775</td>\n",
       "      <td>9</td>\n",
       "      <td>none</td>\n",
       "      <td>4138</td>\n",
       "    </tr>\n",
       "    <tr>\n",
       "      <th>2</th>\n",
       "      <td>48775</td>\n",
       "      <td>4</td>\n",
       "      <td>none</td>\n",
       "      <td>4138</td>\n",
       "    </tr>\n",
       "    <tr>\n",
       "      <th>3</th>\n",
       "      <td>48775</td>\n",
       "      <td>10</td>\n",
       "      <td>none</td>\n",
       "      <td>4138</td>\n",
       "    </tr>\n",
       "    <tr>\n",
       "      <th>4</th>\n",
       "      <td>48775</td>\n",
       "      <td>13</td>\n",
       "      <td>none</td>\n",
       "      <td>4138</td>\n",
       "    </tr>\n",
       "  </tbody>\n",
       "</table>\n",
       "</div>"
      ],
      "text/plain": [
       "   author  upvotes label  author_count\n",
       "0   48775        5  none          4138\n",
       "1   48775        9  none          4138\n",
       "2   48775        4  none          4138\n",
       "3   48775       10  none          4138\n",
       "4   48775       13  none          4138"
      ]
     },
     "metadata": {},
     "output_type": "display_data"
    }
   ],
   "source": [
    "#Count the number of times each user has posted in the forum\n",
    "author_count = Counter(data['author'])\n",
    "print(f\"Number of unique authors : {len(author_count)}\")\n",
    "\n",
    "count_list = []\n",
    "for i, row in tqdm(data.iterrows(), total=data.shape[0]):\n",
    "    count_list.append(author_count[row['author']])\n",
    "\n",
    "data['author_count'] = count_list\n",
    "display(data.head())"
   ]
  },
  {
   "cell_type": "markdown",
   "metadata": {},
   "source": [
    "### Save the new data"
   ]
  },
  {
   "cell_type": "code",
   "execution_count": 193,
   "metadata": {},
   "outputs": [],
   "source": [
    "data.to_csv('data.csv', index=False)"
   ]
  },
  {
   "cell_type": "markdown",
   "metadata": {},
   "source": [
    "# 3) Train a perceptron"
   ]
  },
  {
   "cell_type": "markdown",
   "metadata": {},
   "source": [
    "### Import the data"
   ]
  },
  {
   "cell_type": "code",
   "execution_count": 194,
   "metadata": {},
   "outputs": [
    {
     "name": "stdout",
     "output_type": "stream",
     "text": [
      "(100963, 4)\n"
     ]
    },
    {
     "data": {
      "text/html": [
       "<div>\n",
       "<style scoped>\n",
       "    .dataframe tbody tr th:only-of-type {\n",
       "        vertical-align: middle;\n",
       "    }\n",
       "\n",
       "    .dataframe tbody tr th {\n",
       "        vertical-align: top;\n",
       "    }\n",
       "\n",
       "    .dataframe thead th {\n",
       "        text-align: right;\n",
       "    }\n",
       "</style>\n",
       "<table border=\"1\" class=\"dataframe\">\n",
       "  <thead>\n",
       "    <tr style=\"text-align: right;\">\n",
       "      <th></th>\n",
       "      <th>author</th>\n",
       "      <th>upvotes</th>\n",
       "      <th>label</th>\n",
       "      <th>author_count</th>\n",
       "    </tr>\n",
       "  </thead>\n",
       "  <tbody>\n",
       "    <tr>\n",
       "      <th>0</th>\n",
       "      <td>48775</td>\n",
       "      <td>5</td>\n",
       "      <td>none</td>\n",
       "      <td>4138</td>\n",
       "    </tr>\n",
       "    <tr>\n",
       "      <th>1</th>\n",
       "      <td>48775</td>\n",
       "      <td>9</td>\n",
       "      <td>none</td>\n",
       "      <td>4138</td>\n",
       "    </tr>\n",
       "    <tr>\n",
       "      <th>2</th>\n",
       "      <td>48775</td>\n",
       "      <td>4</td>\n",
       "      <td>none</td>\n",
       "      <td>4138</td>\n",
       "    </tr>\n",
       "    <tr>\n",
       "      <th>3</th>\n",
       "      <td>48775</td>\n",
       "      <td>10</td>\n",
       "      <td>none</td>\n",
       "      <td>4138</td>\n",
       "    </tr>\n",
       "    <tr>\n",
       "      <th>4</th>\n",
       "      <td>48775</td>\n",
       "      <td>13</td>\n",
       "      <td>none</td>\n",
       "      <td>4138</td>\n",
       "    </tr>\n",
       "  </tbody>\n",
       "</table>\n",
       "</div>"
      ],
      "text/plain": [
       "   author  upvotes label  author_count\n",
       "0   48775        5  none          4138\n",
       "1   48775        9  none          4138\n",
       "2   48775        4  none          4138\n",
       "3   48775       10  none          4138\n",
       "4   48775       13  none          4138"
      ]
     },
     "metadata": {},
     "output_type": "display_data"
    },
    {
     "name": "stdout",
     "output_type": "stream",
     "text": [
      "Counter({'none': 90132, 'spam': 10808, 'good': 23})\n"
     ]
    }
   ],
   "source": [
    "data = pd.read_csv('data.csv')\n",
    "print(data.shape)\n",
    "display(data.head())\n",
    "\n",
    "#Count the label\n",
    "label_count = Counter(data['label'])\n",
    "print(label_count)"
   ]
  },
  {
   "cell_type": "markdown",
   "metadata": {},
   "source": [
    "### Prepare train set and test set"
   ]
  },
  {
   "cell_type": "code",
   "execution_count": 195,
   "metadata": {},
   "outputs": [
    {
     "name": "stdout",
     "output_type": "stream",
     "text": [
      "X_train shape: (36, 2)\n",
      "[[-0.74113236  1.31029484]\n",
      " [ 0.1800491  -0.93389628]\n",
      " [-0.0376847  -0.93608094]\n",
      " [-0.59039357  1.32995678]\n",
      " [-0.62389108  1.29773305]\n",
      " [-0.55689607  1.29882538]\n",
      " [ 0.11305409 -0.93553477]\n",
      " [-0.54014731  0.20922663]\n",
      " [-0.67413734  0.18464921]\n",
      " [-0.65738859  0.21523444]\n",
      " [ 0.23029537 -0.93990409]\n",
      " [ 0.04605907 -0.93608094]\n",
      " [ 1.0509843  -0.93389628]\n",
      " [-0.64063983  0.18191839]\n",
      " [-0.0711822  -0.93444244]\n",
      " [-0.0376847  -0.93444244]\n",
      " [-0.5066498   1.29172524]\n",
      " [-0.52339856  1.32995678]\n",
      " [ 0.02931032 -0.93608094]\n",
      " [-0.59039357  1.31794115]\n",
      " [-0.05443345 -0.93553477]\n",
      " [-0.64063983  1.31848732]\n",
      " [-0.74113236  1.29172524]\n",
      " [ 1.63719069 -0.93990409]\n",
      " [ 3.59679489 -0.93389628]\n",
      " [ 0.29729038 -0.94809656]\n",
      " [-0.60714233  1.32995678]\n",
      " [-0.65738859  1.31029484]\n",
      " [-0.7243836  -0.38827765]\n",
      " [ 2.96034224 -0.94154258]\n",
      " [-0.67413734  0.18464921]\n",
      " [-0.6908861   1.29117908]\n",
      " [ 0.66576297 -0.93553477]\n",
      " [-0.6908861  -0.37680819]\n",
      " [ 0.01256157 -0.93389628]\n",
      " [ 1.4529544  -0.93990409]]\n",
      "\n",
      "y_train shape: (36,)\n",
      "[1 0 0 1 1 1 0 1 1 1 0 0 0 1 0 0 1 1 0 1 0 1 1 0 0 0 1 1 1 0 1 1 0 1 0 0]\n",
      "\n",
      "X_test shape: (10795, 2)\n",
      "[[ 0.88349677 -0.93990409]\n",
      " [ 1.888422   -0.93389628]\n",
      " [ 1.888422   -0.93389628]\n",
      " ...\n",
      " [-0.7243836   1.29554839]\n",
      " [-0.57364482  1.29554839]\n",
      " [-0.60714233  1.29554839]]\n",
      "\n",
      "y_test shape: (10795,)\n",
      "[0 0 0 ... 1 1 1]\n"
     ]
    }
   ],
   "source": [
    "#Keep only the rows with labels (i.e labels != \"none\")\n",
    "data = data[data['label'] != 'none']\n",
    "\n",
    "#Class imbalance -> Only take 37 spams and 37 goods\n",
    "spam = data[data['label'] == 'spam']\n",
    "good = data[data['label'] == 'good']\n",
    "\n",
    "#Take label_count[\"good\"] random post from spam\n",
    "random_spams = spam.sample(label_count[\"good\"], random_state=42, replace=False)\n",
    "right_data = pd.concat([random_spams, good[:label_count[\"good\"]]])\n",
    "\n",
    "\n",
    "#Split in train and test\n",
    "train, test = train_test_split(right_data, test_size=0.2, random_state=42)\n",
    "\n",
    "#Add the rest of the spams and goods to the test set\n",
    "other_spams = spam.drop(random_spams.index)\n",
    "test = pd.concat([test, other_spams])\n",
    "\n",
    "#Numerize the labels : 1 = \"spam\", 0 = \"good\"\n",
    "train['label'] = train['label'].apply(lambda x: 1 if x == 'spam' else 0)\n",
    "test['label'] = test['label'].apply(lambda x: 1 if x == 'spam' else 0)\n",
    "\n",
    "#Get X and y\n",
    "X_train, y_train = train[['upvotes', 'author_count']], train['label']\n",
    "X_test, y_test = test[['upvotes', 'author_count']], test['label']\n",
    "\n",
    "\n",
    "#Convert y in numpy array\n",
    "y_train = y_train.values\n",
    "y_test = y_test.values\n",
    "\n",
    "#Normalize X\n",
    "scaler = StandardScaler()\n",
    "X_train = scaler.fit_transform(X_train)\n",
    "X_test = scaler.transform(X_test)\n",
    "\n",
    "\n",
    "#PRINT\n",
    "print(\"X_train shape:\", X_train.shape)\n",
    "print(X_train)\n",
    "print(\"\\ny_train shape:\", y_train.shape)\n",
    "print(y_train)\n",
    "print(\"\\nX_test shape:\", X_test.shape)\n",
    "print(X_test)\n",
    "print(\"\\ny_test shape:\", y_test.shape)\n",
    "print(y_test)"
   ]
  },
  {
   "cell_type": "markdown",
   "metadata": {},
   "source": [
    "### Visualize the data in a 2D map (as we have 2 features)"
   ]
  },
  {
   "cell_type": "code",
   "execution_count": 196,
   "metadata": {},
   "outputs": [
    {
     "data": {
      "image/png": "[encoded data removed]",
      "text/plain": [
       "<Figure size 640x480 with 1 Axes>"
      ]
     },
     "metadata": {},
     "output_type": "display_data"
    }
   ],
   "source": [
    "#visualize the training data\n",
    "plt.scatter(X_train[:,0], X_train[:,1], c=y_train)\n",
    "plt.xlabel('Upvotes')\n",
    "plt.ylabel('Author count')\n",
    "plt.title('Training data')\n",
    "#Legend\n",
    "plt.scatter([], [], c='yellow', label='Spam')\n",
    "plt.scatter([], [], c='Purple', label='Good')\n",
    "plt.legend()\n",
    "plt.show()"
   ]
  },
  {
   "cell_type": "markdown",
   "metadata": {},
   "source": [
    "### Create a custom Perceptron class"
   ]
  },
  {
   "cell_type": "code",
   "execution_count": 197,
   "metadata": {},
   "outputs": [],
   "source": [
    "class Perceptron():\n",
    "\n",
    "    def __init__(self, learning_rate=0.01, n_iters=None):\n",
    "        self.lr = learning_rate\n",
    "        self.n_iters = n_iters\n",
    "        self.activation = self.heaviside\n",
    "        self.weights = None\n",
    "        self.bias = None\n",
    "\n",
    "    def forward(self, X):\n",
    "        linear_output = np.dot(X, self.weights) + self.bias\n",
    "        y_predicted = self.activation(linear_output)\n",
    "        return y_predicted\n",
    "\n",
    "    def fit(self, X, y):\n",
    "\n",
    "        n_samples, n_features = X.shape\n",
    "\n",
    "        # init parameters\n",
    "        self.weights = np.zeros(n_features)\n",
    "        self.bias = 0\n",
    "        if self.n_iters is None:\n",
    "            self.n_iters = n_samples\n",
    "\n",
    "\n",
    "        pbar = tqdm(range(self.n_iters), desc=\"Training the model...\")\n",
    "        for i in pbar:\n",
    "            for j, x in enumerate(X):\n",
    "                \n",
    "                #Forward\n",
    "                y_predicted = self.forward(x)\n",
    "                \n",
    "                #Gradient descent\n",
    "                y_true = 1 if y[j] > 0 else 0\n",
    "                self.weights += self.lr*(y_true - y_predicted)*x\n",
    "                self.bias += self.lr*(y_true - y_predicted)\n",
    "            \n",
    "            if i%10 == 0 and i != 0:\n",
    "                pbar.set_postfix({'loss': np.mean(np.square(y - self.forward(X)))}) \n",
    "\n",
    "\n",
    "\n",
    "    def predict(self, X):\n",
    "        return self.forward(X)\n",
    "\n",
    "    def heaviside(self, x): #Heaviside function\n",
    "        return np.where(x >= 0, 1, 0)"
   ]
  },
  {
   "cell_type": "markdown",
   "metadata": {},
   "source": [
    "### Train the model"
   ]
  },
  {
   "cell_type": "code",
   "execution_count": 198,
   "metadata": {},
   "outputs": [
    {
     "name": "stderr",
     "output_type": "stream",
     "text": [
      "Training the model...: 100%|██████████| 36/36 [00:00<00:00, 2791.09it/s, loss=0]"
     ]
    },
    {
     "name": "stdout",
     "output_type": "stream",
     "text": [
      "Training time : 0.015177011489868164 s\n"
     ]
    },
    {
     "name": "stderr",
     "output_type": "stream",
     "text": [
      "\n"
     ]
    }
   ],
   "source": [
    "model = Perceptron(learning_rate=0.01)\n",
    "\n",
    "t_i = time.time()\n",
    "model.fit(X_train, y_train)\n",
    "t_f = time.time()\n",
    "\n",
    "print(f\"Training time : {t_f - t_i} s\")\n"
   ]
  },
  {
   "cell_type": "markdown",
   "metadata": {},
   "source": [
    "### Test the model"
   ]
  },
  {
   "cell_type": "code",
   "execution_count": 199,
   "metadata": {},
   "outputs": [
    {
     "name": "stdout",
     "output_type": "stream",
     "text": [
      "Accuracy: 0.8688281611857341\n",
      "Precision: 1.0\n",
      "Recall: 0.8687552136435258\n",
      "F1 score: 0.9297688721357009\n"
     ]
    },
    {
     "data": {
      "image/png": "[encoded data removed]",
      "text/plain": [
       "<Figure size 640x480 with 2 Axes>"
      ]
     },
     "metadata": {},
     "output_type": "display_data"
    }
   ],
   "source": [
    "#Confusion matrix\n",
    "def confusion_matrix(y_true, y_pred):\n",
    "    TP = np.sum(y_true * y_pred)\n",
    "    TN = np.sum((y_true == 0) * (y_pred == 0))\n",
    "    FP = np.sum((y_true == 0) * (y_pred == 1))\n",
    "    FN = np.sum((y_true == 1) * (y_pred == 0))\n",
    "    return TP, TN, FP, FN\n",
    "\n",
    "#Accuracy\n",
    "def accuracy(y_true, y_pred):\n",
    "    TP, TN, FP, FN = confusion_matrix(y_true, y_pred)\n",
    "    return (TP + TN) / (TP + TN + FP + FN)\n",
    "\n",
    "#Precision\n",
    "def precision(y_true, y_pred):\n",
    "    TP, TN, FP, FN = confusion_matrix(y_true, y_pred)\n",
    "    return TP / (TP + FP)\n",
    "\n",
    "#Recall\n",
    "def recall(y_true, y_pred):\n",
    "    TP, TN, FP, FN = confusion_matrix(y_true, y_pred)\n",
    "    return TP / (TP + FN)\n",
    "\n",
    "#F1 score\n",
    "def f1_score(y_true, y_pred):\n",
    "    prec = precision(y_true, y_pred)\n",
    "    rec = recall(y_true, y_pred)\n",
    "    return 2 * (prec * rec) / (prec + rec)\n",
    "\n",
    "#Predictions\n",
    "y_pred = model.predict(X_test)\n",
    "y_pred = np.where(y_pred >= 0.5, 1, 0)\n",
    "\n",
    "#Metrics\n",
    "acc = accuracy(y_test, y_pred)\n",
    "prec = precision(y_test, y_pred)\n",
    "rec = recall(y_test, y_pred)\n",
    "f1 = f1_score(y_test, y_pred)\n",
    "\n",
    "print(\"Accuracy:\", acc)\n",
    "print(\"Precision:\", prec)\n",
    "print(\"Recall:\", rec)\n",
    "print(\"F1 score:\", f1)\n",
    "\n",
    "\n",
    "#Plot the confusion matrix\n",
    "TP, TN, FP, FN = confusion_matrix(y_test, y_pred)\n",
    "conf_matrix = np.array([[TN, FP], [FN, TP]])\n",
    "\n",
    "plt.imshow(conf_matrix, interpolation='nearest', cmap=plt.cm.Blues)\n",
    "plt.title('Confusion matrix')\n",
    "plt.colorbar()\n",
    "tick_marks = np.arange(2)\n",
    "plt.xticks(tick_marks, ['Good', 'Spam'], rotation=45)\n",
    "plt.yticks(tick_marks, ['Good', 'Spam'])\n",
    "plt.ylabel('True label')\n",
    "plt.xlabel('Predicted label')\n",
    "for i in range(2):\n",
    "    for j in range(2):\n",
    "        plt.text(j, i, conf_matrix[i, j])\n",
    "plt.show()\n"
   ]
  },
  {
   "cell_type": "markdown",
   "metadata": {},
   "source": [
    "# 4) XAI to check our intuition"
   ]
  },
  {
   "cell_type": "code",
   "execution_count": 200,
   "metadata": {},
   "outputs": [
    {
     "name": "stdout",
     "output_type": "stream",
     "text": [
      "Weights: [-0.00720196  0.01143123]\n",
      "Bias: 0.0\n"
     ]
    }
   ],
   "source": [
    "#Model parameters\n",
    "print(\"Weights:\", model.weights)\n",
    "print(\"Bias:\", model.bias)"
   ]
  },
  {
   "cell_type": "code",
   "execution_count": 201,
   "metadata": {},
   "outputs": [],
   "source": [
    "x1 = np.arange(-1,1,0.01)\n",
    "x2 = np.arange(-1,1,0.01)\n",
    "X1,X2 = meshgrid(x1, x2) # grid of point\n",
    "\n",
    "#Shape as a 3D array\n",
    "X = np.array([X1.ravel(), X2.ravel()]).T\n",
    "\n",
    "#Predict\n",
    "y = model.predict(X)\n",
    "\n",
    "#Reshape\n",
    "y = y.reshape(X1.shape)\n",
    "\n",
    "#Heat map of y\n",
    "plt.figure()\n",
    "imshow(y, extent=(-1,1,-1,1), origin='lower')\n",
    "title('Heat map of y')\n",
    "#Legend axis\n",
    "plt.xlabel(\"up-votes\")\n",
    "plt.ylabel(\"author_counts\")\n",
    "colorbar()\n",
    "plt.show()\n"
   ]
  },
  {
   "cell_type": "markdown",
   "metadata": {},
   "source": [
    "Interpretation : posts whose authors published is more likely to be label as spam. The decision boundary is linear and is increasing -> Even if author published a lot, if their posts is often up-voted, it is more likely to be good."
   ]
  }
 ],
 "metadata": {
  "kernelspec": {
   "display_name": "ml",
   "language": "python",
   "name": "python3"
  },
  "language_info": {
   "codemirror_mode": {
    "name": "ipython",
    "version": 3
   },
   "file_extension": ".py",
   "mimetype": "text/x-python",
   "name": "python",
   "nbconvert_exporter": "python",
   "pygments_lexer": "ipython3",
   "version": "3.9.18"
  }
 },
 "nbformat": 4,
 "nbformat_minor": 2
}
